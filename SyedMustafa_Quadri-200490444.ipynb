{
 "cells": [
  {
   "cell_type": "code",
   "execution_count": null,
   "id": "653bd497",
   "metadata": {},
   "outputs": [],
   "source": []
  },
  {
   "cell_type": "markdown",
   "id": "a01afbc9",
   "metadata": {},
   "source": [
    "# question 1"
   ]
  },
  {
   "cell_type": "code",
   "execution_count": 94,
   "id": "b8a422bd",
   "metadata": {},
   "outputs": [],
   "source": [
    "a = 0    # Initializing a global variable \"a\" with global scale \n",
    "     \n",
    "def b():  #creating a function \n",
    "    global a  #declaring the scope of \"a\" as global \n",
    "    \n",
    "    \n",
    "    # here we declare 'a' as global since we will need to\n",
    "              # modify its value from inside the function\n",
    "            \n",
    "    a = c(a)  #modifing the value of a by calling a function \"c\" \n",
    "              # and passing \"a\"\n",
    "    \n",
    "    # then we call another function 'c', pass an argument 'a'\n",
    "              # and re-assign the output to 'a'\n",
    "        \n",
    "def c(a):         # creating a fuction which takes a parameter\n",
    "    return a + 2  # returinig a value by adding \"a\" with 2  "
   ]
  },
  {
   "cell_type": "code",
   "execution_count": 95,
   "id": "0bcd171a",
   "metadata": {},
   "outputs": [],
   "source": [
    "b() #calling the function b, since inital value of \"a\" is zero, f(c) returns 2, and a changes to 2"
   ]
  },
  {
   "cell_type": "code",
   "execution_count": 96,
   "id": "d7010ea8",
   "metadata": {},
   "outputs": [],
   "source": [
    "b() #calling the function b, since new value of \"a\" is 2, f(c) returns 4, and a changes to 4"
   ]
  },
  {
   "cell_type": "code",
   "execution_count": 97,
   "id": "c4ac03eb",
   "metadata": {},
   "outputs": [],
   "source": [
    "b() #calling the function b, since new value of \"a\" is 4, f(c) returns 6, and a changes to 6"
   ]
  },
  {
   "cell_type": "code",
   "execution_count": 98,
   "id": "0c98db32",
   "metadata": {},
   "outputs": [
    {
     "data": {
      "text/plain": [
       "6"
      ]
     },
     "execution_count": 98,
     "metadata": {},
     "output_type": "execute_result"
    }
   ],
   "source": [
    "a # returns the value of \"a\""
   ]
  },
  {
   "cell_type": "markdown",
   "id": "718afa4f",
   "metadata": {},
   "source": [
    "# question 2"
   ]
  },
  {
   "cell_type": "code",
   "execution_count": 49,
   "id": "a494ccb4",
   "metadata": {},
   "outputs": [
    {
     "name": "stdout",
     "output_type": "stream",
     "text": [
      "File idterm.py not Found.\n"
     ]
    }
   ],
   "source": [
    "#creating the function\n",
    "def fileLength(name): \n",
    "    try:\n",
    "        infile = open(name)\n",
    "        x = infile.read()\n",
    "        \n",
    "        infile.close()\n",
    "        print(len(x))\n",
    "    except FileNotFoundError: #handling error\n",
    "        y=name\n",
    "        print(\"File \"+ y +\" not Found.\")\n",
    "\n",
    "fileLength(\"idterm.py\")"
   ]
  },
  {
   "cell_type": "code",
   "execution_count": null,
   "id": "1c193ee8",
   "metadata": {},
   "outputs": [],
   "source": []
  },
  {
   "cell_type": "markdown",
   "id": "3f8fca82",
   "metadata": {},
   "source": [
    "# question 3"
   ]
  },
  {
   "cell_type": "code",
   "execution_count": 50,
   "id": "a9d43906",
   "metadata": {},
   "outputs": [],
   "source": [
    "#creating function marsupial\n",
    "\n",
    "class Marsupial:\n",
    "\n",
    "    def __init__(self):\n",
    "        self.pouch = []\n",
    "\n",
    "    def put_in_pouch(self, value : str):\n",
    "        self.pouch.append(value)\n",
    "        \n",
    "    def pouch_contents(self):\n",
    "        return self.pouch\n",
    "    \n"
   ]
  },
  {
   "cell_type": "code",
   "execution_count": 51,
   "id": "48231a54",
   "metadata": {},
   "outputs": [],
   "source": [
    "#creating kangaroo subclass\n",
    "class Kangaroo(Marsupial):\n",
    "    \n",
    "    def __init__(self, xcoord, ycoord):\n",
    "        Marsupial.__init__(self)\n",
    "        self.x = xcoord\n",
    "        self.y = ycoord\n",
    "        \n",
    "    def jump(self, dx, dy): # new method\n",
    "        self.x += dx\n",
    "        self.y += dy\n",
    "    \n",
    "    def __str__(self): # overload the __str__ operator\n",
    "        return \"I am a Kangaroo located at coordinates (%s,%s)\" %(self.x, self.y)"
   ]
  },
  {
   "cell_type": "code",
   "execution_count": 52,
   "id": "46a04c38",
   "metadata": {},
   "outputs": [
    {
     "name": "stdout",
     "output_type": "stream",
     "text": [
      "I am a Kangaroo located at coordinates (0,0)\n"
     ]
    }
   ],
   "source": [
    "k = Kangaroo(0, 0)\n",
    "\n",
    "print(k)"
   ]
  },
  {
   "cell_type": "code",
   "execution_count": 53,
   "id": "68e8b0bc",
   "metadata": {},
   "outputs": [
    {
     "data": {
      "text/plain": [
       "['doll', 'firetruck', 'kitten']"
      ]
     },
     "execution_count": 53,
     "metadata": {},
     "output_type": "execute_result"
    }
   ],
   "source": [
    "k.put_in_pouch('doll')\n",
    "k.put_in_pouch('firetruck')\n",
    "k.put_in_pouch('kitten')\n",
    "k.pouch_contents()"
   ]
  },
  {
   "cell_type": "code",
   "execution_count": 54,
   "id": "515ca8ff",
   "metadata": {},
   "outputs": [
    {
     "name": "stdout",
     "output_type": "stream",
     "text": [
      "I am a Kangaroo located at coordinates (3,0)\n"
     ]
    }
   ],
   "source": [
    "k.jump(1,0)\n",
    "k.jump(1,0)\n",
    "k.jump(1,0)\n",
    "print(k)"
   ]
  },
  {
   "cell_type": "code",
   "execution_count": null,
   "id": "06f16589",
   "metadata": {},
   "outputs": [],
   "source": []
  },
  {
   "cell_type": "markdown",
   "id": "550eb99b",
   "metadata": {},
   "source": [
    "# question 4"
   ]
  },
  {
   "cell_type": "code",
   "execution_count": 57,
   "id": "451a3bc3",
   "metadata": {},
   "outputs": [
    {
     "name": "stdout",
     "output_type": "stream",
     "text": [
      "10\n",
      "5.0\n",
      "16.0\n",
      "8.0\n",
      "4.0\n",
      "2.0\n",
      "1.0\n"
     ]
    }
   ],
   "source": [
    "#creating collatz recursive function\n",
    "def collatz(n):\n",
    "    'prints the n-th pattern'\n",
    "    print(n)\n",
    "    if n == 1:           # base case\n",
    "        return()\n",
    "        \n",
    "    elif (n %2 == 0):\n",
    "       \n",
    "        collatz(n/2)\n",
    "    else:\n",
    "        x=3*n+1\n",
    "        \n",
    "        collatz(x)\n",
    "        \n",
    "collatz(10)"
   ]
  },
  {
   "cell_type": "markdown",
   "id": "dfe0d1c1",
   "metadata": {},
   "source": [
    "# question 5"
   ]
  },
  {
   "cell_type": "code",
   "execution_count": 58,
   "id": "2e7e915b",
   "metadata": {},
   "outputs": [],
   "source": [
    "#creating binary recursive function\n",
    "\n",
    "def binary(n):\n",
    "    'prints the n-th pattern'\n",
    "    if(n==0):\n",
    "        print(n)\n",
    "        \n",
    "    \n",
    "    elif n == 1: \n",
    "        print(n,end=' ')# base case\n",
    "        #return(n)\n",
    "    else:\n",
    "        print(n%2,end=' ')\n",
    "        binary( int(n/2))\n"
   ]
  },
  {
   "cell_type": "code",
   "execution_count": 59,
   "id": "f05b7a8c",
   "metadata": {},
   "outputs": [
    {
     "name": "stdout",
     "output_type": "stream",
     "text": [
      "0\n"
     ]
    }
   ],
   "source": [
    "binary(0)"
   ]
  },
  {
   "cell_type": "code",
   "execution_count": 60,
   "id": "c916f96f",
   "metadata": {},
   "outputs": [
    {
     "name": "stdout",
     "output_type": "stream",
     "text": [
      "1 "
     ]
    }
   ],
   "source": [
    "binary(1)"
   ]
  },
  {
   "cell_type": "code",
   "execution_count": 61,
   "id": "8cfe32e6",
   "metadata": {},
   "outputs": [
    {
     "name": "stdout",
     "output_type": "stream",
     "text": [
      "1 1 "
     ]
    }
   ],
   "source": [
    "binary(3)"
   ]
  },
  {
   "cell_type": "code",
   "execution_count": 62,
   "id": "1d60155d",
   "metadata": {},
   "outputs": [
    {
     "name": "stdout",
     "output_type": "stream",
     "text": [
      "1 0 0 1 "
     ]
    }
   ],
   "source": [
    "binary(9)"
   ]
  },
  {
   "cell_type": "markdown",
   "id": "61406027",
   "metadata": {
    "scrolled": true
   },
   "source": [
    "# question 6"
   ]
  },
  {
   "cell_type": "code",
   "execution_count": 64,
   "id": "11ffe22a",
   "metadata": {},
   "outputs": [
    {
     "name": "stdout",
     "output_type": "stream",
     "text": [
      " W3C Mission\n",
      " \n",
      "\n",
      "  Principles\n",
      "  \n",
      "\n"
     ]
    }
   ],
   "source": [
    "from html.parser import HTMLParser\n",
    "\n",
    "class HeadingParser(HTMLParser):\n",
    "    tag = []\n",
    "    def handle_starttag(self, tag, attrs):\n",
    "        self.tag.append(tag)\n",
    "            \n",
    "    def handle_data(self, data):\n",
    "        try:\n",
    "            if self.tag[-1] in ['h1','h2','h3','h4','h5','h6']:\n",
    "                print(\" \"*(int(self.tag[-1][1:])-1), data)\n",
    "        except IndexError:\n",
    "            pass\n",
    "        \n",
    "infile = open(\"w3c.html\")\n",
    "content = infile.read()\n",
    "infile.close()\n",
    "hp = HeadingParser()\n",
    "hp.feed(content)"
   ]
  },
  {
   "cell_type": "markdown",
   "id": "d24d696a",
   "metadata": {},
   "source": [
    "# question 7"
   ]
  },
  {
   "cell_type": "code",
   "execution_count": 73,
   "id": "779e1426",
   "metadata": {},
   "outputs": [
    {
     "data": {
      "text/plain": [
       "['homeworks/Winter2020/FinalPractice.html',\n",
       " 'homeworks/Winter2020/FinalPractice2.html',\n",
       " 'syllabus.html',\n",
       " 'https://d2l.depaul.edu',\n",
       " 'https://d2l.depaul.edu/',\n",
       " 'https://academics.depaul.edu/calendar/Pages/default.aspx',\n",
       " 'https://d2l.depaul.edu',\n",
       " 'https://www.python.org/',\n",
       " 'https://www.python.org/downloads/',\n",
       " 'https://wiki.python.org/moin/BeginnersGuide',\n",
       " 'https://wiki.python.org/moin/BeginnersGuide/NonProgrammers',\n",
       " 'https://bcs.wiley.com/he-bcs/Books?action=index&itemId=1118890949&bcsId=9532',\n",
       " 'https://www.acm.org/',\n",
       " 'https://www.garykessler.net/library/crypto.html',\n",
       " 'http://www.alanturing.net/',\n",
       " 'https://aitopics.org/search',\n",
       " 'https://www.sciencemuseum.org.uk/objects-and-stories/women-computing',\n",
       " 'https://www.w3schools.com/',\n",
       " 'https://icpc.global/',\n",
       " 'mailto:lperkovic@cs.depaul.edu',\n",
       " 'https://reed.cs.depaul.edu/lperkovic/',\n",
       " 'lecture1/',\n",
       " 'lecture2/',\n",
       " 'lecture3/',\n",
       " 'lectures/lecture4/Lecture4.ppt',\n",
       " 'lecture4/',\n",
       " 'lectures/lecture5/Lecture5.ppt',\n",
       " 'lecture5/',\n",
       " 'lecture6/',\n",
       " 'lecture7/',\n",
       " 'lecture8/',\n",
       " 'lecture9/',\n",
       " 'http://reed.cs.depaul.edu/lperkovic/csc416/lectures/lecture9/Lecture9.html',\n",
       " 'lecture10/',\n",
       " 'homeworks/Homework1.html',\n",
       " 'homeworks/Homework2.html',\n",
       " 'http://reed.cs.depaul.edu/lperkovic/csc242/homeworks/HomeworkSol.html',\n",
       " 'homeworks/Homework3.html',\n",
       " 'homeworks/Homework4.html',\n",
       " 'homeworks/Homework5.html',\n",
       " 'homeworks/Homework6.html',\n",
       " 'homeworks/Homework7.html',\n",
       " 'homeworks/Homework8.html']"
      ]
     },
     "execution_count": 73,
     "metadata": {},
     "output_type": "execute_result"
    }
   ],
   "source": [
    "import requests\n",
    "from bs4 import BeautifulSoup\n",
    "\n",
    "URL = \"http://reed.cs.depaul.edu/lperkovic/csc242/\"\n",
    "page = requests.get(URL)\n",
    "soup = BeautifulSoup(page.content, features='lxml')\n",
    "# Find links\n",
    "all_links = [link.get(\"href\") for link in soup(\"a\")]\n",
    "\n",
    "all_links"
   ]
  },
  {
   "cell_type": "markdown",
   "id": "c8ae198d",
   "metadata": {},
   "source": [
    "# question 8"
   ]
  },
  {
   "cell_type": "code",
   "execution_count": 89,
   "id": "72e6b97a",
   "metadata": {},
   "outputs": [],
   "source": [
    "import sqlite3\n",
    "con = sqlite3.connect('example.db')\n",
    "cur = con.cursor()"
   ]
  },
  {
   "cell_type": "code",
   "execution_count": 91,
   "id": "ea3a1cb9",
   "metadata": {},
   "outputs": [
    {
     "ename": "OperationalError",
     "evalue": "database is locked",
     "output_type": "error",
     "traceback": [
      "\u001b[1;31m---------------------------------------------------------------------------\u001b[0m",
      "\u001b[1;31mOperationalError\u001b[0m                          Traceback (most recent call last)",
      "Input \u001b[1;32mIn [91]\u001b[0m, in \u001b[0;36m<cell line: 1>\u001b[1;34m()\u001b[0m\n\u001b[1;32m----> 1\u001b[0m \u001b[43mcur\u001b[49m\u001b[38;5;241;43m.\u001b[39;49m\u001b[43mexecute\u001b[49m\u001b[43m(\u001b[49m\u001b[38;5;124;43m'''\u001b[39;49m\u001b[38;5;124;43mCREATE TABLE World7\u001b[39;49m\n\u001b[0;32m      2\u001b[0m \u001b[38;5;124;43m               (city text, country text , season text , temperature real , rainfall real)\u001b[39;49m\u001b[38;5;124;43m'''\u001b[39;49m\u001b[43m)\u001b[49m\n",
      "\u001b[1;31mOperationalError\u001b[0m: database is locked"
     ]
    }
   ],
   "source": [
    "cur.execute('''CREATE TABLE World7\n",
    "               (city text, country text , season text , temperature real , rainfall real)''')\n"
   ]
  },
  {
   "cell_type": "code",
   "execution_count": 4,
   "id": "91861ee6",
   "metadata": {},
   "outputs": [
    {
     "data": {
      "text/plain": [
       "<sqlite3.Cursor at 0x26d230b57a0>"
      ]
     },
     "execution_count": 4,
     "metadata": {},
     "output_type": "execute_result"
    }
   ],
   "source": [
    "cur.execute(\"INSERT INTO World VALUES ('mumbai','India','winter',24.8,5.9)\")"
   ]
  },
  {
   "cell_type": "code",
   "execution_count": 5,
   "id": "cbec108c",
   "metadata": {},
   "outputs": [
    {
     "data": {
      "text/plain": [
       "<sqlite3.Cursor at 0x26d230b57a0>"
      ]
     },
     "execution_count": 5,
     "metadata": {},
     "output_type": "execute_result"
    }
   ],
   "source": [
    "cur.execute(\"INSERT INTO World VALUES ('mumbai','India','spring',28.4,16.2)\")"
   ]
  },
  {
   "cell_type": "code",
   "execution_count": 6,
   "id": "c89c6005",
   "metadata": {},
   "outputs": [
    {
     "data": {
      "text/plain": [
       "<sqlite3.Cursor at 0x26d230b57a0>"
      ]
     },
     "execution_count": 6,
     "metadata": {},
     "output_type": "execute_result"
    }
   ],
   "source": [
    "cur.execute(\"INSERT INTO World VALUES ('mumbai','India','summer',27.9,1549.4)\")"
   ]
  },
  {
   "cell_type": "code",
   "execution_count": 7,
   "id": "06b750b6",
   "metadata": {},
   "outputs": [
    {
     "data": {
      "text/plain": [
       "<sqlite3.Cursor at 0x26d230b57a0>"
      ]
     },
     "execution_count": 7,
     "metadata": {},
     "output_type": "execute_result"
    }
   ],
   "source": [
    "cur.execute(\"INSERT INTO World VALUES ('mumbai','India','fall',27.6,346.0)\")"
   ]
  },
  {
   "cell_type": "code",
   "execution_count": 8,
   "id": "321db6fd",
   "metadata": {},
   "outputs": [
    {
     "data": {
      "text/plain": [
       "<sqlite3.Cursor at 0x26d230b57a0>"
      ]
     },
     "execution_count": 8,
     "metadata": {},
     "output_type": "execute_result"
    }
   ],
   "source": [
    "cur.execute(\"INSERT INTO World VALUES ('london','United Kingdom','winter',4.2,207.7)\")"
   ]
  },
  {
   "cell_type": "code",
   "execution_count": 9,
   "id": "0fdbc248",
   "metadata": {},
   "outputs": [
    {
     "data": {
      "text/plain": [
       "<sqlite3.Cursor at 0x26d230b57a0>"
      ]
     },
     "execution_count": 9,
     "metadata": {},
     "output_type": "execute_result"
    }
   ],
   "source": [
    "cur.execute(\"INSERT INTO World VALUES ('london','United Kingdom','spring',8.3,169.6)\")"
   ]
  },
  {
   "cell_type": "code",
   "execution_count": 10,
   "id": "87a8e52a",
   "metadata": {},
   "outputs": [
    {
     "data": {
      "text/plain": [
       "<sqlite3.Cursor at 0x26d230b57a0>"
      ]
     },
     "execution_count": 10,
     "metadata": {},
     "output_type": "execute_result"
    }
   ],
   "source": [
    "cur.execute(\"INSERT INTO World VALUES ('london','United Kingdom','summer',15.7,157.0)\")"
   ]
  },
  {
   "cell_type": "code",
   "execution_count": 11,
   "id": "33333f57",
   "metadata": {},
   "outputs": [
    {
     "data": {
      "text/plain": [
       "<sqlite3.Cursor at 0x26d230b57a0>"
      ]
     },
     "execution_count": 11,
     "metadata": {},
     "output_type": "execute_result"
    }
   ],
   "source": [
    "cur.execute(\"INSERT INTO World VALUES ('london','United Kingdom','fall',10.4,218.5)\")"
   ]
  },
  {
   "cell_type": "code",
   "execution_count": 12,
   "id": "980e91aa",
   "metadata": {},
   "outputs": [
    {
     "data": {
      "text/plain": [
       "<sqlite3.Cursor at 0x26d230b57a0>"
      ]
     },
     "execution_count": 12,
     "metadata": {},
     "output_type": "execute_result"
    }
   ],
   "source": [
    "cur.execute(\"INSERT INTO World VALUES ('cario','Egypt','winter',13.6,16.5)\")"
   ]
  },
  {
   "cell_type": "code",
   "execution_count": 13,
   "id": "6e5de911",
   "metadata": {},
   "outputs": [
    {
     "data": {
      "text/plain": [
       "<sqlite3.Cursor at 0x26d230b57a0>"
      ]
     },
     "execution_count": 13,
     "metadata": {},
     "output_type": "execute_result"
    }
   ],
   "source": [
    "cur.execute(\"INSERT INTO World VALUES ('cario','Egypt','spring',20.7,6.5)\")"
   ]
  },
  {
   "cell_type": "code",
   "execution_count": 14,
   "id": "bff666f8",
   "metadata": {},
   "outputs": [
    {
     "data": {
      "text/plain": [
       "<sqlite3.Cursor at 0x26d230b57a0>"
      ]
     },
     "execution_count": 14,
     "metadata": {},
     "output_type": "execute_result"
    }
   ],
   "source": [
    "cur.execute(\"INSERT INTO World VALUES ('cario','Egypt','summer',27.7,0.1)\")"
   ]
  },
  {
   "cell_type": "code",
   "execution_count": 15,
   "id": "793c70eb",
   "metadata": {},
   "outputs": [
    {
     "data": {
      "text/plain": [
       "<sqlite3.Cursor at 0x26d230b57a0>"
      ]
     },
     "execution_count": 15,
     "metadata": {},
     "output_type": "execute_result"
    }
   ],
   "source": [
    "cur.execute(\"INSERT INTO World VALUES ('cario','Egypt','fall',22.2,4.5)\")"
   ]
  },
  {
   "cell_type": "code",
   "execution_count": 26,
   "id": "91fd0be2",
   "metadata": {},
   "outputs": [
    {
     "name": "stdout",
     "output_type": "stream",
     "text": [
      "(24.8,)\n",
      "(28.4,)\n",
      "(27.9,)\n",
      "(27.6,)\n",
      "(4.2,)\n",
      "(8.3,)\n",
      "(15.7,)\n",
      "(10.4,)\n",
      "(13.6,)\n",
      "(20.7,)\n",
      "(27.7,)\n",
      "(22.2,)\n"
     ]
    }
   ],
   "source": [
    "#8.a\n",
    "temp=cur.execute('''SELECT temperature FROM World''')\n",
    "for row in temp:\n",
    "    print(row)"
   ]
  },
  {
   "cell_type": "code",
   "execution_count": 85,
   "id": "b1ecffcf",
   "metadata": {},
   "outputs": [],
   "source": [
    "#8.b\n",
    "temp=cur.execute('''SELECT DISTINCT(city) FROM World''')\n",
    "for row in temp:\n",
    "    print(row)"
   ]
  },
  {
   "cell_type": "code",
   "execution_count": 86,
   "id": "88835920",
   "metadata": {},
   "outputs": [
    {
     "name": "stdout",
     "output_type": "stream",
     "text": [
      "[]\n"
     ]
    }
   ],
   "source": [
    "#8.c\n",
    "word = 'India'\n",
    "cur.execute('SELECT * FROM World WHERE country = ?', (word,))\n",
    "print(cur.fetchall())"
   ]
  },
  {
   "cell_type": "code",
   "execution_count": 68,
   "id": "0980a968",
   "metadata": {},
   "outputs": [
    {
     "name": "stdout",
     "output_type": "stream",
     "text": [
      "[('mumbai', 'India', 'fall', 27.6, 346.0), ('london', 'United Kingdom', 'fall', 10.4, 218.5), ('cario', 'Egypt', 'fall', 22.2, 4.5)]\n"
     ]
    }
   ],
   "source": [
    "#8.d\n",
    "word2 = 'fall'\n",
    "cur.execute('SELECT * FROM World WHERE season = ?', (word2,))\n",
    "print(cur.fetchall())"
   ]
  },
  {
   "cell_type": "markdown",
   "id": "6e91da98",
   "metadata": {},
   "source": [
    "cur.execute(\"DROP TABLE World\")"
   ]
  },
  {
   "cell_type": "code",
   "execution_count": 69,
   "id": "0d5263f8",
   "metadata": {},
   "outputs": [
    {
     "name": "stdout",
     "output_type": "stream",
     "text": [
      "('mumbai', 'India', 'fall')\n",
      "('london', 'United Kingdom', 'winter')\n",
      "('london', 'United Kingdom', 'fall')\n"
     ]
    }
   ],
   "source": [
    "#8.e\n",
    "for row in cur.execute('SELECT city , country  ,season   FROM World WHERE rainfall > 200 AND rainfall < 400 '):\n",
    "        print(row)"
   ]
  },
  {
   "cell_type": "code",
   "execution_count": 70,
   "id": "7c802024",
   "metadata": {},
   "outputs": [
    {
     "name": "stdout",
     "output_type": "stream",
     "text": [
      "('mumbai', 'India')\n",
      "('cario', 'Egypt')\n"
     ]
    }
   ],
   "source": [
    "#8.f\n",
    "for row in cur.execute('SELECT city , country     FROM World WHERE temperature > 20 AND season = ?   ' , (word2,)):\n",
    "        print(row)"
   ]
  },
  {
   "cell_type": "code",
   "execution_count": 71,
   "id": "74325bf7",
   "metadata": {},
   "outputs": [
    {
     "name": "stdout",
     "output_type": "stream",
     "text": [
      "(27.6,)\n"
     ]
    }
   ],
   "source": [
    "#8.g\n",
    "word3='cario'\n",
    "for row in cur.execute('SELECT SUM(rainfall)    FROM World WHERE  city = ?  ' , (word3,)):\n",
    "        print(row)"
   ]
  },
  {
   "cell_type": "code",
   "execution_count": 92,
   "id": "5b788430",
   "metadata": {},
   "outputs": [],
   "source": [
    "#8.h\n",
    "for row in cur.execute('SELECT season, SUM(rainfall) from WORLD GROUP BY season  ' ):\n",
    "        print(row)"
   ]
  },
  {
   "cell_type": "code",
   "execution_count": 93,
   "id": "01657a94",
   "metadata": {},
   "outputs": [
    {
     "ename": "OperationalError",
     "evalue": "database is locked",
     "output_type": "error",
     "traceback": [
      "\u001b[1;31m---------------------------------------------------------------------------\u001b[0m",
      "\u001b[1;31mOperationalError\u001b[0m                          Traceback (most recent call last)",
      "Input \u001b[1;32mIn [93]\u001b[0m, in \u001b[0;36m<cell line: 1>\u001b[1;34m()\u001b[0m\n\u001b[1;32m----> 1\u001b[0m \u001b[43mcur\u001b[49m\u001b[38;5;241;43m.\u001b[39;49m\u001b[43mexecute\u001b[49m\u001b[43m(\u001b[49m\u001b[38;5;124;43m\"\u001b[39;49m\u001b[38;5;124;43mDROP TABLE World\u001b[39;49m\u001b[38;5;124;43m\"\u001b[39;49m\u001b[43m)\u001b[49m\n",
      "\u001b[1;31mOperationalError\u001b[0m: database is locked"
     ]
    }
   ],
   "source": [
    "#cur.execute(\"DROP TABLE World\")"
   ]
  },
  {
   "cell_type": "markdown",
   "id": "4af9bd90",
   "metadata": {},
   "source": [
    "# question 9"
   ]
  },
  {
   "cell_type": "code",
   "execution_count": 35,
   "id": "ac34b69a",
   "metadata": {},
   "outputs": [],
   "source": [
    "words = ['The', 'quick', 'brown', 'fox', 'jumps', 'over', 'the', 'lazy', 'dog']"
   ]
  },
  {
   "cell_type": "code",
   "execution_count": 40,
   "id": "d0d473c3",
   "metadata": {},
   "outputs": [
    {
     "data": {
      "text/plain": [
       "['THE', 'QUICK', 'BROWN', 'FOX', 'JUMPS', 'OVER', 'THE', 'LAZY', 'DOG']"
      ]
     },
     "execution_count": 40,
     "metadata": {},
     "output_type": "execute_result"
    }
   ],
   "source": [
    "#9.a\n",
    "a=[x.upper() for x in words]\n",
    "a"
   ]
  },
  {
   "cell_type": "code",
   "execution_count": 41,
   "id": "16a039e6",
   "metadata": {},
   "outputs": [
    {
     "data": {
      "text/plain": [
       "['the', 'quick', 'brown', 'fox', 'jumps', 'over', 'the', 'lazy', 'dog']"
      ]
     },
     "execution_count": 41,
     "metadata": {},
     "output_type": "execute_result"
    }
   ],
   "source": [
    "#9.b\n",
    "b=[y.lower() for y in words]\n",
    "b"
   ]
  },
  {
   "cell_type": "code",
   "execution_count": 42,
   "id": "fb33e160",
   "metadata": {},
   "outputs": [
    {
     "data": {
      "text/plain": [
       "[3, 5, 5, 3, 5, 4, 3, 4, 3]"
      ]
     },
     "execution_count": 42,
     "metadata": {},
     "output_type": "execute_result"
    }
   ],
   "source": [
    "#9.c\n",
    "c=[len(x) for x in words]\n",
    "c"
   ]
  },
  {
   "cell_type": "code",
   "execution_count": 44,
   "id": "d092c8a3",
   "metadata": {},
   "outputs": [
    {
     "data": {
      "text/plain": [
       "[['THE', 'the', 3],\n",
       " ['QUICK', 'quick', 5],\n",
       " ['BROWN', 'brown', 5],\n",
       " ['FOX', 'fox', 3],\n",
       " ['JUMPS', 'jumps', 5],\n",
       " ['OVER', 'over', 4],\n",
       " ['THE', 'the', 3],\n",
       " ['LAZY', 'lazy', 4],\n",
       " ['DOG', 'dog', 3]]"
      ]
     },
     "execution_count": 44,
     "metadata": {},
     "output_type": "execute_result"
    }
   ],
   "source": [
    "#9.d\n",
    "d=[[x.upper(), x.lower(), len(x)] for x in words]\n",
    "d"
   ]
  },
  {
   "cell_type": "code",
   "execution_count": 47,
   "id": "d160f547",
   "metadata": {},
   "outputs": [
    {
     "data": {
      "text/plain": [
       "['quick', 'brown', 'jumps', 'over', 'lazy']"
      ]
     },
     "execution_count": 47,
     "metadata": {},
     "output_type": "execute_result"
    }
   ],
   "source": [
    "#9.e\n",
    "e=[x for x in words if len(x)>=4]\n",
    "e"
   ]
  },
  {
   "cell_type": "code",
   "execution_count": null,
   "id": "f051d609",
   "metadata": {},
   "outputs": [],
   "source": []
  }
 ],
 "metadata": {
  "kernelspec": {
   "display_name": "Python 3 (ipykernel)",
   "language": "python",
   "name": "python3"
  },
  "language_info": {
   "codemirror_mode": {
    "name": "ipython",
    "version": 3
   },
   "file_extension": ".py",
   "mimetype": "text/x-python",
   "name": "python",
   "nbconvert_exporter": "python",
   "pygments_lexer": "ipython3",
   "version": "3.9.12"
  }
 },
 "nbformat": 4,
 "nbformat_minor": 5
}
